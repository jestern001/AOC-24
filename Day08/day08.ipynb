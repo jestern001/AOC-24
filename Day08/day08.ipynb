{
 "cells": [
  {
   "cell_type": "code",
   "execution_count": 63,
   "metadata": {},
   "outputs": [],
   "source": [
    "from itertools import product\n",
    "from pathlib import Path"
   ]
  },
  {
   "cell_type": "code",
   "execution_count": 64,
   "metadata": {},
   "outputs": [
    {
     "data": {
      "text/plain": [
       "['............s...............1.....................',\n",
       " '......................E......3.....S..............',\n",
       " '.......................3.....S....................',\n",
       " '...e........T.t.......S.1...........I.............',\n",
       " '..................B..................I.....O......']"
      ]
     },
     "execution_count": 64,
     "metadata": {},
     "output_type": "execute_result"
    }
   ],
   "source": [
    "TEST = False\n",
    "\n",
    "file_name = \"test-input.txt\" if TEST else \"input.txt\"\n",
    "file_path = Path(file_name)\n",
    "rows = file_path.read_text().split()\n",
    "rows = list(filter(None, rows))\n",
    "rows[:5]"
   ]
  },
  {
   "cell_type": "code",
   "execution_count": 65,
   "metadata": {},
   "outputs": [
    {
     "ename": "TypeError",
     "evalue": "'set' object is not subscriptable",
     "output_type": "error",
     "traceback": [
      "\u001b[1;31m---------------------------------------------------------------------------\u001b[0m",
      "\u001b[1;31mTypeError\u001b[0m                                 Traceback (most recent call last)",
      "Cell \u001b[1;32mIn[65], line 2\u001b[0m\n\u001b[0;32m      1\u001b[0m freqs \u001b[38;5;241m=\u001b[39m \u001b[38;5;28mset\u001b[39m(c \u001b[38;5;28;01mfor\u001b[39;00m row \u001b[38;5;129;01min\u001b[39;00m rows \u001b[38;5;28;01mfor\u001b[39;00m c \u001b[38;5;129;01min\u001b[39;00m row \u001b[38;5;28;01mif\u001b[39;00m c \u001b[38;5;241m!=\u001b[39m \u001b[38;5;124m\"\u001b[39m\u001b[38;5;124m.\u001b[39m\u001b[38;5;124m\"\u001b[39m)\n\u001b[1;32m----> 2\u001b[0m \u001b[43mfreqs\u001b[49m\u001b[43m[\u001b[49m\u001b[43m:\u001b[49m\u001b[38;5;241;43m5\u001b[39;49m\u001b[43m]\u001b[49m\n",
      "\u001b[1;31mTypeError\u001b[0m: 'set' object is not subscriptable"
     ]
    }
   ],
   "source": [
    "freqs = set(c for row in rows for c in row if c != \".\")\n",
    "freqs[:5]"
   ]
  },
  {
   "cell_type": "code",
   "execution_count": 59,
   "metadata": {},
   "outputs": [],
   "source": [
    "antinodes = []\n",
    "for freq in freqs:\n",
    "\n",
    "    # get coords of all freqs\n",
    "    coords = [(r, c) for r, row in enumerate(rows) for c, col in enumerate(row) if rows[r][c] == freq]\n",
    "    \n",
    "    # get all combinations of coords (combos are indexes)\n",
    "    combos = product(range(len(coords)), repeat=2)\n",
    "    combos = ((i, j) for i, j in combos if i != j)\n",
    "\n",
    "    # for each combo\n",
    "    for i, j in combos:\n",
    "        coord1 = coords[i]\n",
    "        coord2 = coords[j]\n",
    "\n",
    "        # get distance\n",
    "        r_dist = coord1[0] - coord2[0]\n",
    "        c_dist = coord1[1] - coord2[1]\n",
    "\n",
    "        # get antinodes\n",
    "        a1 = (\n",
    "            coord1[0] + r_dist,\n",
    "            coord1[1] + c_dist\n",
    "        )\n",
    "        a2 = (\n",
    "            coord2[0] - r_dist,\n",
    "            coord2[1] - c_dist\n",
    "        )\n",
    "\n",
    "        for a in [a1, a2]:\n",
    "            if 0 <= a[0] < len(rows) and 0 <= a[1] < len(rows[0]):\n",
    "                antinodes.append(a)"
   ]
  },
  {
   "cell_type": "code",
   "execution_count": 60,
   "metadata": {},
   "outputs": [
    {
     "data": {
      "text/plain": [
       "311"
      ]
     },
     "execution_count": 60,
     "metadata": {},
     "output_type": "execute_result"
    }
   ],
   "source": [
    "result = len(set(antinodes))\n",
    "if TEST:\n",
    "    assert result == 14\n",
    "result"
   ]
  },
  {
   "cell_type": "code",
   "execution_count": null,
   "metadata": {},
   "outputs": [],
   "source": []
  }
 ],
 "metadata": {
  "kernelspec": {
   "display_name": "Python 3",
   "language": "python",
   "name": "python3"
  },
  "language_info": {
   "codemirror_mode": {
    "name": "ipython",
    "version": 3
   },
   "file_extension": ".py",
   "mimetype": "text/x-python",
   "name": "python",
   "nbconvert_exporter": "python",
   "pygments_lexer": "ipython3",
   "version": "3.11.9"
  }
 },
 "nbformat": 4,
 "nbformat_minor": 2
}
