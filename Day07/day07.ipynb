{
 "cells": [
  {
   "cell_type": "code",
   "execution_count": 173,
   "metadata": {},
   "outputs": [],
   "source": [
    "from itertools import product\n",
    "from pathlib import Path\n",
    "from copy import deepcopy"
   ]
  },
  {
   "cell_type": "code",
   "execution_count": 176,
   "metadata": {},
   "outputs": [
    {
     "data": {
      "text/plain": [
       "[['88045337', '4', '7', '80', '453', '37'],\n",
       " ['1607806', '4', '348', '49', '228', '92', '1', '14'],\n",
       " ['327264767', '58', '8', '992', '711'],\n",
       " ['11278498', '658', '7', '169', '25', '374', '95', '1'],\n",
       " ['49032', '9', '3', '5', '36', '588', '9']]"
      ]
     },
     "execution_count": 176,
     "metadata": {},
     "output_type": "execute_result"
    }
   ],
   "source": [
    "TEST = False\n",
    "\n",
    "file_name = \"test-input.txt\" if TEST else \"input.txt\"\n",
    "file_path = Path(file_name)\n",
    "rows = file_path.read_text().replace(\":\", \"\").split('\\n')\n",
    "rows = map(str.split, rows)\n",
    "rows = filter(None, rows)\n",
    "rows = list(rows)\n",
    "rows[:5]\n"
   ]
  },
  {
   "cell_type": "markdown",
   "metadata": {},
   "source": [
    "# Part 1"
   ]
  },
  {
   "cell_type": "code",
   "execution_count": 179,
   "metadata": {},
   "outputs": [
    {
     "data": {
      "text/plain": [
       "1620690235709"
      ]
     },
     "execution_count": 179,
     "metadata": {},
     "output_type": "execute_result"
    }
   ],
   "source": [
    "valid_rows = []\n",
    "ros_copy = deepcopy(rows)\n",
    "result = 0\n",
    "for row in ros_copy:\n",
    "    match_found = False\n",
    "    # print(\"Row:\", row)\n",
    "    expected_total = int(row.pop(0))\n",
    "    combos = list(product(\"*+\", repeat=len(row)-1))\n",
    "    for ops in combos:\n",
    "        things = []\n",
    "        for r, o in zip(row, ops):\n",
    "            things += [r, o]\n",
    "        things += [row[-1]]\n",
    "        total = int(things.pop(0))\n",
    "        while things:\n",
    "            op = things.pop(0)\n",
    "            num = int(things.pop(0))\n",
    "            if op == \"*\":\n",
    "                total *= num\n",
    "            else:\n",
    "                total += num\n",
    "        if total == expected_total:\n",
    "            match_found = True\n",
    "            break\n",
    "    if match_found:\n",
    "        result += expected_total\n",
    "result\n"
   ]
  }
 ],
 "metadata": {
  "kernelspec": {
   "display_name": "Python 3",
   "language": "python",
   "name": "python3"
  },
  "language_info": {
   "codemirror_mode": {
    "name": "ipython",
    "version": 3
   },
   "file_extension": ".py",
   "mimetype": "text/x-python",
   "name": "python",
   "nbconvert_exporter": "python",
   "pygments_lexer": "ipython3",
   "version": "3.11.9"
  }
 },
 "nbformat": 4,
 "nbformat_minor": 2
}
