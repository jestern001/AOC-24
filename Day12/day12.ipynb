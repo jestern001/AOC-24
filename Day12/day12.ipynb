{
 "cells": [
  {
   "cell_type": "markdown",
   "metadata": {},
   "source": [
    "# Exampel Data"
   ]
  },
  {
   "cell_type": "code",
   "execution_count": 5,
   "metadata": {},
   "outputs": [],
   "source": [
    "examples = [\n",
    "\"\"\"AAAA\n",
    "BBCD\n",
    "BBCC\n",
    "EEEC\n",
    "\"\"\",\n",
    "\"\"\"OOOOO\n",
    "OXOXO\n",
    "OOOOO\n",
    "OXOXO\n",
    "OOOOO\n",
    "\"\"\",\n",
    "\"\"\"RRRRIICCFF\n",
    "RRRRIICCCF\n",
    "VVRRRCCFFF\n",
    "VVRCCCJFFF\n",
    "VVVVCJJCFE\n",
    "VVIVCCJJEE\n",
    "VVIIICJJEE\n",
    "MIIIIIJJEE\n",
    "MIIISIJEEE\n",
    "MMMISSJEEE\n",
    "\"\"\"\n",
    "]\n",
    "results = [\n",
    "    140,\n",
    "    772,\n",
    "    1930\n",
    "]"
   ]
  },
  {
   "cell_type": "code",
   "execution_count": 9,
   "metadata": {},
   "outputs": [
    {
     "data": {
      "text/plain": [
       "[['A', 'A', 'A', 'A'],\n",
       " ['B', 'B', 'C', 'D'],\n",
       " ['B', 'B', 'C', 'C'],\n",
       " ['E', 'E', 'E', 'C']]"
      ]
     },
     "execution_count": 9,
     "metadata": {},
     "output_type": "execute_result"
    }
   ],
   "source": [
    "rows = [list(row) for row in examples[0].split()]\n",
    "rows"
   ]
  },
  {
   "cell_type": "code",
   "execution_count": 17,
   "metadata": {},
   "outputs": [
    {
     "data": {
      "text/plain": [
       "['A', 'B', 'C', 'D', 'E']"
      ]
     },
     "execution_count": 17,
     "metadata": {},
     "output_type": "execute_result"
    }
   ],
   "source": [
    "crops = sorted(set(v for r in rows for v in r))\n",
    "crops"
   ]
  },
  {
   "cell_type": "code",
   "execution_count": 18,
   "metadata": {},
   "outputs": [
    {
     "name": "stdout",
     "output_type": "stream",
     "text": [
      "For crop: A\n",
      "[(0, 0), (0, 1), (0, 2), (0, 3)]\n",
      "For crop: B\n",
      "[(1, 0), (1, 1), (2, 0), (2, 1)]\n",
      "For crop: C\n",
      "[(1, 2), (2, 2), (2, 3), (3, 3)]\n",
      "For crop: D\n",
      "[(1, 3)]\n",
      "For crop: E\n",
      "[(3, 0), (3, 1), (3, 2)]\n"
     ]
    }
   ],
   "source": [
    "for crop in crops:\n",
    "    print(\"For crop:\", crop)\n",
    "    plots = [(r, c) for r, row in enumerate(rows) for c, col in enumerate(row) if col == crop]\n",
    "    groups = []\n",
    "    for plot in plots:\n",
    "        r, c = plot\n",
    "        in_group = False\n",
    "        for group in groups:\n",
    "            for group_plot in group:\n",
    "                adjacent_spots = [\n",
    "                    (r-1, 0),\n",
    "                    (r+1, 0),\n",
    "                    (0, c+1),\n",
    "                    (0, c-1)\n",
    "                ]\n",
    "                if (group_plot in adjacent_spots):\n",
    "                    in_group == True\n",
    "                    break\n",
    "            # if in group, add to group\n",
    "            if in_group:\n",
    "                group.append(plot)\n",
    "                break\n",
    "        \n",
    "\n",
    "\n",
    "\n",
    "\n",
    "    "
   ]
  },
  {
   "cell_type": "code",
   "execution_count": null,
   "metadata": {},
   "outputs": [],
   "source": []
  }
 ],
 "metadata": {
  "kernelspec": {
   "display_name": "Python 3",
   "language": "python",
   "name": "python3"
  },
  "language_info": {
   "codemirror_mode": {
    "name": "ipython",
    "version": 3
   },
   "file_extension": ".py",
   "mimetype": "text/x-python",
   "name": "python",
   "nbconvert_exporter": "python",
   "pygments_lexer": "ipython3",
   "version": "3.11.9"
  }
 },
 "nbformat": 4,
 "nbformat_minor": 2
}
