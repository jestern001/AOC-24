{
 "cells": [
  {
   "cell_type": "markdown",
   "metadata": {},
   "source": [
    "# Exampel Data"
   ]
  },
  {
   "cell_type": "code",
   "execution_count": 5,
   "metadata": {},
   "outputs": [],
   "source": [
    "examples = [\n",
    "\"\"\"AAAA\n",
    "BBCD\n",
    "BBCC\n",
    "EEEC\n",
    "\"\"\",\n",
    "\"\"\"OOOOO\n",
    "OXOXO\n",
    "OOOOO\n",
    "OXOXO\n",
    "OOOOO\n",
    "\"\"\",\n",
    "\"\"\"RRRRIICCFF\n",
    "RRRRIICCCF\n",
    "VVRRRCCFFF\n",
    "VVRCCCJFFF\n",
    "VVVVCJJCFE\n",
    "VVIVCCJJEE\n",
    "VVIIICJJEE\n",
    "MIIIIIJJEE\n",
    "MIIISIJEEE\n",
    "MMMISSJEEE\n",
    "\"\"\"\n",
    "]\n",
    "results = [\n",
    "    140,\n",
    "    772,\n",
    "    1930\n",
    "]"
   ]
  },
  {
   "cell_type": "code",
   "execution_count": 46,
   "metadata": {},
   "outputs": [
    {
     "name": "stdout",
     "output_type": "stream",
     "text": [
      "Example 0\n",
      "AAAA\n",
      "BBCD\n",
      "BBCC\n",
      "EEEC\n",
      "\n",
      "[[(0, 0), (0, 1), (0, 2), (0, 3)], [(1, 0), (1, 1), (2, 0), (2, 1)], [(1, 2), (2, 2), (2, 3), (3, 3)], [(1, 3)], [(3, 0), (3, 1), (3, 2)]]\n",
      "Example 1\n",
      "OOOOO\n",
      "OXOXO\n",
      "OOOOO\n",
      "OXOXO\n",
      "OOOOO\n",
      "\n",
      "[[(0, 0), (0, 1), (0, 2), (0, 3), (0, 4), (1, 0), (1, 2), (1, 4), (2, 0), (2, 1), (2, 2), (2, 3), (2, 4), (3, 0), (3, 2), (3, 4), (4, 0), (4, 1), (4, 2), (4, 3), (4, 4)], [(1, 1)], [(1, 3)], [(3, 1)], [(3, 3)]]\n",
      "Example 2\n",
      "RRRRIICCFF\n",
      "RRRRIICCCF\n",
      "VVRRRCCFFF\n",
      "VVRCCCJFFF\n",
      "VVVVCJJCFE\n",
      "VVIVCCJJEE\n",
      "VVIIICJJEE\n",
      "MIIIIIJJEE\n",
      "MIIISIJEEE\n",
      "MMMISSJEEE\n",
      "\n",
      "[[(0, 0), (0, 1), (0, 2), (0, 3), (1, 0), (1, 1), (1, 2), (1, 3), (2, 2), (2, 3), (2, 4), (3, 2)], [(0, 4), (0, 5), (1, 4), (1, 5)], [(0, 6), (0, 7), (1, 6), (1, 7), (1, 8), (2, 6)], [(0, 8), (0, 9), (1, 9), (2, 9), (3, 9)], [(2, 0), (2, 1), (3, 0), (3, 1), (4, 0), (4, 1), (4, 2), (4, 3), (5, 0), (5, 1), (5, 3), (6, 0), (6, 1)], [(2, 5), (3, 5)], [(2, 7), (2, 8), (3, 7), (3, 8), (4, 8)], [(3, 3), (3, 4), (4, 4), (5, 4), (5, 5), (6, 5)], [(3, 6), (4, 6), (5, 6), (5, 7), (6, 6), (6, 7), (7, 6), (7, 7), (8, 6), (9, 6)], [(4, 5)], [(4, 7)], [(4, 9), (5, 9), (6, 9), (7, 9), (8, 9), (9, 9)], [(5, 2), (6, 2), (6, 3), (6, 4), (7, 2), (7, 3), (7, 4), (7, 5), (8, 2), (8, 3), (8, 5), (9, 3)], [(5, 8), (6, 8), (7, 8), (8, 8), (9, 8)], [(7, 0), (8, 0), (9, 0), (9, 1), (9, 2)], [(7, 1), (8, 1)], [(8, 4), (9, 4), (9, 5)], [(8, 7), (9, 7)]]\n"
     ]
    }
   ],
   "source": [
    "offsets = [(1, 0), (-1, 0), (0, 1), (0, -1)]\n",
    "\n",
    "for i, example in enumerate(examples):\n",
    "    print(f\"Example {i}\\n{example}\")\n",
    "    # get as rows\n",
    "    rows = [list(row) for row in example.split()]\n",
    "\n",
    "    # get individual crops\n",
    "    crops = sorted(set(val for row in rows for val in row))\n",
    "\n",
    "    plots = [(r, c) for r, row in enumerate(rows) for c, col in enumerate(row)]\n",
    "    groups = []\n",
    "    for plot in plots:\n",
    "        if not groups:\n",
    "            groups.append([plot])\n",
    "            continue\n",
    "        r, c = plot\n",
    "        plot_crop = rows[r][c]\n",
    "\n",
    "        for group in groups:\n",
    "            in_group = False\n",
    "            for r_off, c_off in offsets:\n",
    "                if (r, c) == (r_off, c_off):\n",
    "                    continue\n",
    "                r_adj = r_off + r\n",
    "                c_adj = c_off + c\n",
    "                if 0 <= r_adj < len(rows) and 0 <= c_adj < len(rows[0]):\n",
    "                    adj_crop = rows[r_adj][c_adj]\n",
    "                    if (r_adj, c_adj) in group and adj_crop == plot_crop:\n",
    "                        group.append((r, c))\n",
    "                        in_group = True\n",
    "                        break\n",
    "            if in_group:\n",
    "                break\n",
    "        if not in_group:\n",
    "            groups.append([plot])\n",
    "    print(groups)\n",
    "\n",
    "\n",
    "\n",
    "            \n",
    "            \n",
    "        "
   ]
  },
  {
   "cell_type": "code",
   "execution_count": null,
   "metadata": {},
   "outputs": [],
   "source": []
  }
 ],
 "metadata": {
  "kernelspec": {
   "display_name": "Python 3",
   "language": "python",
   "name": "python3"
  },
  "language_info": {
   "codemirror_mode": {
    "name": "ipython",
    "version": 3
   },
   "file_extension": ".py",
   "mimetype": "text/x-python",
   "name": "python",
   "nbconvert_exporter": "python",
   "pygments_lexer": "ipython3",
   "version": "3.11.9"
  }
 },
 "nbformat": 4,
 "nbformat_minor": 2
}
