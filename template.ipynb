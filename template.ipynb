{
 "cells": [
  {
   "cell_type": "code",
   "execution_count": null,
   "metadata": {},
   "outputs": [],
   "source": [
    "from pathlib import Path"
   ]
  },
  {
   "cell_type": "code",
   "execution_count": null,
   "metadata": {},
   "outputs": [],
   "source": [
    "TEST = False\n",
    "file_name = 'test-input.txt' if TEST else \"input.txt\""
   ]
  },
  {
   "cell_type": "code",
   "execution_count": null,
   "metadata": {},
   "outputs": [],
   "source": [
    "file_path = Path(file_name)\n",
    "raw_data = file_path.read_text()\n",
    "raw_data[:30]"
   ]
  },
  {
   "cell_type": "code",
   "execution_count": null,
   "metadata": {},
   "outputs": [],
   "source": [
    "raw_rows = raw_data.split('\\n')\n",
    "rows = [[int(n) for n in row.split()] for row in raw_rows if row]\n",
    "rows[:5]"
   ]
  },
  {
   "cell_type": "markdown",
   "metadata": {},
   "source": [
    "# Part 1"
   ]
  },
  {
   "cell_type": "markdown",
   "metadata": {},
   "source": [
    "Check for all increasing or all decreasing"
   ]
  },
  {
   "cell_type": "code",
   "execution_count": null,
   "metadata": {},
   "outputs": [],
   "source": [
    "safe_rows = []\n",
    "for _row in rows:\n",
    "    a = _row[:-1]\n",
    "    b = _row[1:]\n",
    "    # print(a, b)\n",
    "\n",
    "    # check if increasing\n",
    "    increasing = all(_a < _b for _a, _b in zip(a, b))\n",
    "    decreasing = all(_a > _b for _a, _b in zip(a, b))\n",
    "\n",
    "    # check for rate of change (roc)\n",
    "    diffs = [abs(_a-_b) for _a, _b in zip(a, b)]\n",
    "    in_range = all(d <= 3 for d in diffs)\n",
    "    \n",
    "    # get is safe\n",
    "    is_safe = (increasing or decreasing) and in_range\n",
    "    safe_rows.append(is_safe)\n",
    "safe_rows\n",
    "    \n"
   ]
  },
  {
   "cell_type": "code",
   "execution_count": null,
   "metadata": {},
   "outputs": [],
   "source": [
    "num_safe = sum(safe_rows)\n",
    "if TEST:\n",
    "    assert num_safe == 2\n",
    "num_safe"
   ]
  },
  {
   "cell_type": "markdown",
   "metadata": {},
   "source": [
    "# Part 2"
   ]
  },
  {
   "cell_type": "code",
   "execution_count": null,
   "metadata": {},
   "outputs": [],
   "source": [
    "safe_rows = []\n",
    "for row in rows:\n",
    "    iterations = []\n",
    "    for i in range(len(row)):\n",
    "        iteration_is_safe = []\n",
    "        _row = row.copy()\n",
    "        _row.pop(i)\n",
    "\n",
    "        a = _row[:-1]\n",
    "        b = _row[1:]\n",
    "\n",
    "        # check if increasing\n",
    "        increasing = all(_a < _b for _a, _b in zip(a, b))\n",
    "        decreasing = all(_a > _b for _a, _b in zip(a, b))\n",
    "\n",
    "        # check for rate of change (roc)\n",
    "        diffs = [abs(_a-_b) for _a, _b in zip(a, b)]\n",
    "        in_range = all(d <= 3 for d in diffs)\n",
    "        \n",
    "        # get is safe\n",
    "        is_safe = (increasing or decreasing) and in_range\n",
    "        iterations.append(is_safe)\n",
    "\n",
    "    row_safe = sum(iterations) >= 1\n",
    "    safe_rows.append(row_safe)\n",
    "safe_rows[:10]\n",
    "    \n"
   ]
  },
  {
   "cell_type": "code",
   "execution_count": null,
   "metadata": {},
   "outputs": [],
   "source": [
    "num_safe = safe_rows.count(True)\n",
    "if TEST:\n",
    "    assert num_safe == 4\n",
    "num_safe"
   ]
  },
  {
   "cell_type": "code",
   "execution_count": null,
   "metadata": {},
   "outputs": [],
   "source": []
  }
 ],
 "metadata": {
  "kernelspec": {
   "display_name": ".venv",
   "language": "python",
   "name": "python3"
  },
  "language_info": {
   "codemirror_mode": {
    "name": "ipython",
    "version": 3
   },
   "file_extension": ".py",
   "mimetype": "text/x-python",
   "name": "python",
   "nbconvert_exporter": "python",
   "pygments_lexer": "ipython3",
   "version": "3.11.9"
  }
 },
 "nbformat": 4,
 "nbformat_minor": 2
}
