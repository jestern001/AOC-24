{
 "cells": [
  {
   "cell_type": "markdown",
   "metadata": {},
   "source": [
    "NOTE: Part 1 is complete.  Part 2 is almost complete, I ran out of time to finish troubleshooting it."
   ]
  },
  {
   "cell_type": "markdown",
   "metadata": {},
   "source": [
    "# Setup"
   ]
  },
  {
   "cell_type": "code",
   "execution_count": 172,
   "metadata": {},
   "outputs": [],
   "source": [
    "from pathlib import Path"
   ]
  },
  {
   "cell_type": "code",
   "execution_count": 173,
   "metadata": {},
   "outputs": [],
   "source": [
    "TEST = False\n",
    "\n",
    "# get data path\n",
    "file_name = 'test-input.txt' if TEST else \"input.txt\"\n",
    "file_path = Path(file_name)\n",
    "if not file_path.exists():\n",
    "    raise FileNotFoundError(file_path)\n",
    "\n",
    "# get data\n",
    "raw_data = file_path.read_text()\n",
    "raw_rows = raw_data.split('\\n')\n",
    "rows = [tuple(row.lower()) for row in raw_rows if row]"
   ]
  },
  {
   "cell_type": "markdown",
   "metadata": {},
   "source": [
    "# Part 1"
   ]
  },
  {
   "cell_type": "markdown",
   "metadata": {},
   "source": [
    "Get x locations"
   ]
  },
  {
   "cell_type": "code",
   "execution_count": 174,
   "metadata": {},
   "outputs": [
    {
     "data": {
      "text/plain": [
       "[(0, 6), (0, 10), (0, 12), (0, 13), (0, 16)]"
      ]
     },
     "execution_count": 174,
     "metadata": {},
     "output_type": "execute_result"
    }
   ],
   "source": [
    "xs = [(i, j) for i, row in enumerate(rows) for j, val in enumerate(row) if val == \"x\"]\n",
    "xs[:5]"
   ]
  },
  {
   "cell_type": "markdown",
   "metadata": {},
   "source": [
    "Check X locations"
   ]
  },
  {
   "cell_type": "code",
   "execution_count": 175,
   "metadata": {},
   "outputs": [],
   "source": [
    "min_i = 0\n",
    "max_i = len(rows)\n",
    "min_j = 0\n",
    "max_j = len(rows[0])"
   ]
  },
  {
   "cell_type": "code",
   "execution_count": 176,
   "metadata": {},
   "outputs": [],
   "source": [
    "def check(i, j, IJ: tuple[tuple[int, int, int], tuple[int, int, int]]) -> bool:\n",
    "    I, J = IJ\n",
    "    # verify all indexes are in range\n",
    "    if not all(min_i<=i+_i<max_i for _i in I):\n",
    "        return False\n",
    "    if not all(min_j<=j+_j<max_j for _j in J):\n",
    "        return False\n",
    "    # check letters\n",
    "    return (\n",
    "        rows[i][j],\n",
    "        rows[i+I[0]][j+J[0]],\n",
    "        rows[i+I[1]][j+J[1]],\n",
    "        rows[i+I[2]][j+J[2]],\n",
    "    ) == (\"x\", \"m\", \"a\", \"s\")"
   ]
  },
  {
   "cell_type": "code",
   "execution_count": 177,
   "metadata": {},
   "outputs": [
    {
     "data": {
      "text/plain": [
       "2618"
      ]
     },
     "execution_count": 177,
     "metadata": {},
     "output_type": "execute_result"
    }
   ],
   "source": [
    "result: int = 0\n",
    "coords = [\n",
    "    # left\n",
    "    ([0, 0, 0], [-1, -2, -3]),\n",
    "    # top left\n",
    "    ([-1, -2, -3], [-1, -2, -3]),\n",
    "    # top\n",
    "    ([-1, -2, -3], [0, 0, 0]),\n",
    "    # top right\n",
    "    ([-1, -2, -3], [1, 2, 3]),\n",
    "    # right\n",
    "    ([0, 0, 0], [1, 2, 3]),\n",
    "    # bottom right\n",
    "    ([1, 2, 3], [1, 2, 3]),\n",
    "    # bottom\n",
    "    ([1, 2, 3], [0, 0, 0]),\n",
    "    # bottom left\n",
    "    ([1, 2, 3], [-1, -2, -3])\n",
    "]\n",
    "\n",
    "for i, j in xs:\n",
    "    for coord in coords:\n",
    "        result += check(i, j, coord)\n",
    "result"
   ]
  },
  {
   "cell_type": "code",
   "execution_count": 178,
   "metadata": {},
   "outputs": [
    {
     "data": {
      "text/plain": [
       "2618"
      ]
     },
     "execution_count": 178,
     "metadata": {},
     "output_type": "execute_result"
    }
   ],
   "source": [
    "if TEST:\n",
    "    assert result == 18\n",
    "result"
   ]
  },
  {
   "cell_type": "markdown",
   "metadata": {},
   "source": [
    "# Part 2"
   ]
  },
  {
   "cell_type": "code",
   "execution_count": 179,
   "metadata": {},
   "outputs": [
    {
     "data": {
      "text/plain": [
       "[(0, 6), (0, 10), (0, 12), (0, 13), (0, 16)]"
      ]
     },
     "execution_count": 179,
     "metadata": {},
     "output_type": "execute_result"
    }
   ],
   "source": [
    "As = [(i, j) for i, row in enumerate(rows) for j, val in enumerate(row) if val == \"x\"]\n",
    "As[:5]"
   ]
  },
  {
   "cell_type": "code",
   "execution_count": 180,
   "metadata": {},
   "outputs": [],
   "source": [
    "min_i = 0\n",
    "max_i = len(rows)-1\n",
    "min_j = 0\n",
    "max_j = len(rows[0])-1"
   ]
  },
  {
   "cell_type": "code",
   "execution_count": 181,
   "metadata": {},
   "outputs": [],
   "source": [
    "def check(i, j) -> bool:\n",
    "    # verify all indexes are in range\n",
    "    if not min_i<i<max_i:\n",
    "        return False\n",
    "    if not min_j<j<max_j:\n",
    "        return False\n",
    "    # check first diagonal\n",
    "    top_left = rows[i-1][j-1]\n",
    "    top_right = rows[i-1][j+1]\n",
    "    bottom_left = rows[i+1][j-1]\n",
    "    bottom_right = rows[i+1][j+1]\n",
    "    # get diagonals\n",
    "    d1 = sorted((top_left, bottom_right))\n",
    "    d2 = sorted((bottom_left, top_right))\n",
    "    # check diagnoals\n",
    "    check_val = sorted((\"m\", \"s\"))\n",
    "    return d1 == d2 == check_val"
   ]
  },
  {
   "cell_type": "code",
   "execution_count": 182,
   "metadata": {},
   "outputs": [
    {
     "data": {
      "text/plain": [
       "2799"
      ]
     },
     "execution_count": 182,
     "metadata": {},
     "output_type": "execute_result"
    }
   ],
   "source": [
    "for i, j in As:\n",
    "    result += check(i, j)\n",
    "result"
   ]
  }
 ],
 "metadata": {
  "kernelspec": {
   "display_name": "Python 3",
   "language": "python",
   "name": "python3"
  },
  "language_info": {
   "codemirror_mode": {
    "name": "ipython",
    "version": 3
   },
   "file_extension": ".py",
   "mimetype": "text/x-python",
   "name": "python",
   "nbconvert_exporter": "python",
   "pygments_lexer": "ipython3",
   "version": "3.11.9"
  }
 },
 "nbformat": 4,
 "nbformat_minor": 2
}
