{
 "cells": [
  {
   "cell_type": "code",
   "execution_count": 44,
   "metadata": {},
   "outputs": [],
   "source": [
    "from pathlib import Path"
   ]
  },
  {
   "cell_type": "code",
   "execution_count": 45,
   "metadata": {},
   "outputs": [],
   "source": [
    "test_input = \"\"\"89010123\n",
    "78121874\n",
    "87430965\n",
    "96549874\n",
    "45678903\n",
    "32019012\n",
    "01329801\n",
    "10456732\n",
    "\"\"\""
   ]
  },
  {
   "cell_type": "code",
   "execution_count": 46,
   "metadata": {},
   "outputs": [
    {
     "data": {
      "text/plain": [
       "[[8, 9, 0, 1, 0, 1, 2, 3],\n",
       " [7, 8, 1, 2, 1, 8, 7, 4],\n",
       " [8, 7, 4, 3, 0, 9, 6, 5],\n",
       " [9, 6, 5, 4, 9, 8, 7, 4],\n",
       " [4, 5, 6, 7, 8, 9, 0, 3],\n",
       " [3, 2, 0, 1, 9, 0, 1, 2],\n",
       " [0, 1, 3, 2, 9, 8, 0, 1],\n",
       " [1, 0, 4, 5, 6, 7, 3, 2]]"
      ]
     },
     "execution_count": 46,
     "metadata": {},
     "output_type": "execute_result"
    }
   ],
   "source": [
    "TEST = False\n",
    "input_path = Path(\"input.txt\")\n",
    "input = test_input if TEST else input_path.read_text()\n",
    "rows = test_input.split()\n",
    "rows = [[int(c) for c in row] for row in rows if row]\n",
    "rows"
   ]
  },
  {
   "cell_type": "code",
   "execution_count": 47,
   "metadata": {},
   "outputs": [
    {
     "data": {
      "text/plain": [
       "[(0, 0),\n",
       " (0, 1),\n",
       " (0, 2),\n",
       " (0, 3),\n",
       " (0, 4),\n",
       " (0, 5),\n",
       " (0, 6),\n",
       " (0, 7),\n",
       " (1, 0),\n",
       " (1, 1),\n",
       " (1, 2),\n",
       " (1, 3),\n",
       " (1, 4),\n",
       " (1, 5),\n",
       " (1, 6),\n",
       " (1, 7),\n",
       " (2, 0),\n",
       " (2, 1),\n",
       " (2, 2),\n",
       " (2, 3),\n",
       " (2, 4),\n",
       " (2, 5),\n",
       " (2, 6),\n",
       " (2, 7),\n",
       " (3, 0),\n",
       " (3, 1),\n",
       " (3, 2),\n",
       " (3, 3),\n",
       " (3, 4),\n",
       " (3, 5),\n",
       " (3, 6),\n",
       " (3, 7),\n",
       " (4, 0),\n",
       " (4, 1),\n",
       " (4, 2),\n",
       " (4, 3),\n",
       " (4, 4),\n",
       " (4, 5),\n",
       " (4, 6),\n",
       " (4, 7),\n",
       " (5, 0),\n",
       " (5, 1),\n",
       " (5, 2),\n",
       " (5, 3),\n",
       " (5, 4),\n",
       " (5, 5),\n",
       " (5, 6),\n",
       " (5, 7),\n",
       " (6, 0),\n",
       " (6, 1),\n",
       " (6, 2),\n",
       " (6, 3),\n",
       " (6, 4),\n",
       " (6, 5),\n",
       " (6, 6),\n",
       " (6, 7),\n",
       " (7, 0),\n",
       " (7, 1),\n",
       " (7, 2),\n",
       " (7, 3),\n",
       " (7, 4),\n",
       " (7, 5),\n",
       " (7, 6),\n",
       " (7, 7)]"
      ]
     },
     "execution_count": 47,
     "metadata": {},
     "output_type": "execute_result"
    }
   ],
   "source": [
    "starts = [\n",
    "    (r, c) \n",
    "    for r, R in enumerate(rows) \n",
    "    for c, C in enumerate(R)\n",
    "    # if rows(r, c) is zero and at least one index is zero\n",
    "    # if not (rows[r][c] or (r and c))\n",
    "]\n",
    "starts"
   ]
  },
  {
   "cell_type": "code",
   "execution_count": 48,
   "metadata": {},
   "outputs": [
    {
     "name": "stdout",
     "output_type": "stream",
     "text": [
      "334\n"
     ]
    }
   ],
   "source": [
    "offsets = [(0, 1), (0, -1), (1, 0), (-1, 0)]\n",
    "paths = 0\n",
    "for start in starts:\n",
    "    spaces_to_check = [start]\n",
    "    \n",
    "    # check adjacent spaces\n",
    "    for space in spaces_to_check:\n",
    "        space_r, space_c = space\n",
    "\n",
    "        # get next value\n",
    "        space_val = rows[space_r][space_c]\n",
    "        next_val = space_val + 1\n",
    "\n",
    "        # get next spaces\n",
    "        next_spaces = [(space_r + offset_r, space_c + offset_c) for offset_r, offset_c in offsets]\n",
    "\n",
    "        # check adjacents\n",
    "        for next_space in next_spaces:\n",
    "            next_r, next_c = next_space\n",
    "\n",
    "            # if next space is in range\n",
    "            if not (0 <= next_r < len(rows) and 0 <= next_c < len(rows[0])):\n",
    "                continue\n",
    "\n",
    "            # if at path end\n",
    "            if rows[next_r][next_c] == 9:\n",
    "                paths += 1\n",
    "                continue\n",
    "\n",
    "            # if not next val\n",
    "            if rows[next_r][next_c] != next_val:\n",
    "                continue\n",
    "\n",
    "            # add to spaces to check\n",
    "            spaces_to_check.append(next_space)\n",
    "print(paths)\n",
    "\n",
    "\n"
   ]
  },
  {
   "cell_type": "code",
   "execution_count": null,
   "metadata": {},
   "outputs": [],
   "source": []
  }
 ],
 "metadata": {
  "kernelspec": {
   "display_name": "Python 3",
   "language": "python",
   "name": "python3"
  },
  "language_info": {
   "codemirror_mode": {
    "name": "ipython",
    "version": 3
   },
   "file_extension": ".py",
   "mimetype": "text/x-python",
   "name": "python",
   "nbconvert_exporter": "python",
   "pygments_lexer": "ipython3",
   "version": "3.11.9"
  }
 },
 "nbformat": 4,
 "nbformat_minor": 2
}
