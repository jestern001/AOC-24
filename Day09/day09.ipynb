{
 "cells": [
  {
   "cell_type": "code",
   "execution_count": 170,
   "metadata": {},
   "outputs": [],
   "source": [
    "from pathlib import Path"
   ]
  },
  {
   "cell_type": "code",
   "execution_count": 171,
   "metadata": {},
   "outputs": [],
   "source": [
    "test_data = \"2333133121414131402\"\n",
    "test_result = \"00...111...2...333.44.5555.6666.777.888899\""
   ]
  },
  {
   "cell_type": "code",
   "execution_count": 172,
   "metadata": {},
   "outputs": [
    {
     "data": {
      "text/plain": [
       "'2333133121414131402'"
      ]
     },
     "execution_count": 172,
     "metadata": {},
     "output_type": "execute_result"
    }
   ],
   "source": [
    "TEST = False\n",
    "data = test_data if TEST else Path(\"input.txt\").read_text().replace('\\n', '')\n",
    "data[:20]"
   ]
  },
  {
   "cell_type": "code",
   "execution_count": 173,
   "metadata": {},
   "outputs": [
    {
     "data": {
      "text/plain": [
       "[2, 3, 3, 3, 1, 3, 3, 1, 2, 1, 4, 1, 4, 1, 3, 1, 4, 0, 2]"
      ]
     },
     "execution_count": 173,
     "metadata": {},
     "output_type": "execute_result"
    }
   ],
   "source": [
    "sizes = map(int, data)\n",
    "sizes = list(sizes)\n",
    "sizes[:20]"
   ]
  },
  {
   "cell_type": "code",
   "execution_count": 174,
   "metadata": {},
   "outputs": [
    {
     "data": {
      "text/plain": [
       "'00...111...2...333.44.5555.6666.777.888899'"
      ]
     },
     "execution_count": 174,
     "metadata": {},
     "output_type": "execute_result"
    }
   ],
   "source": [
    "blocks = []\n",
    "for i, size in enumerate(sizes):\n",
    "    is_file = i % 2 == 0\n",
    "    file_index = str(i // 2) if is_file else \".\"\n",
    "    for j in range(size):\n",
    "        blocks.append(file_index)\n",
    "blocks = \"\".join(blocks)\n",
    "if TEST:\n",
    "    assert blocks == test_result\n",
    "blocks"
   ]
  },
  {
   "cell_type": "code",
   "execution_count": 175,
   "metadata": {},
   "outputs": [
    {
     "name": "stdout",
     "output_type": "stream",
     "text": [
      "Start: 00...111...2...333.44.5555.6666.777.888899\n",
      "Final: 0099811188827773336446555566\n"
     ]
    }
   ],
   "source": [
    "B = list(blocks)\n",
    "print(\"Start:\", \"\".join(B))\n",
    "for i, b in enumerate(B):\n",
    "    # print(i, b)\n",
    "    if b == \".\":\n",
    "        new_b = \".\"\n",
    "        while new_b == \".\":\n",
    "            new_b = B.pop()\n",
    "        B[i] = new_b\n",
    "if TEST:\n",
    "    assert \"\".join(B) == \"0099811188827773336446555566\"\n",
    "print(\"Final:\", \"\".join(B))"
   ]
  },
  {
   "cell_type": "code",
   "execution_count": 176,
   "metadata": {},
   "outputs": [
    {
     "data": {
      "text/plain": [
       "1928"
      ]
     },
     "execution_count": 176,
     "metadata": {},
     "output_type": "execute_result"
    }
   ],
   "source": [
    "result = sum(int(i) * int(b) for i, b in enumerate(B))\n",
    "if TEST:\n",
    "    assert result == 1928\n",
    "result"
   ]
  },
  {
   "cell_type": "code",
   "execution_count": null,
   "metadata": {},
   "outputs": [],
   "source": []
  }
 ],
 "metadata": {
  "kernelspec": {
   "display_name": "Python 3",
   "language": "python",
   "name": "python3"
  },
  "language_info": {
   "codemirror_mode": {
    "name": "ipython",
    "version": 3
   },
   "file_extension": ".py",
   "mimetype": "text/x-python",
   "name": "python",
   "nbconvert_exporter": "python",
   "pygments_lexer": "ipython3",
   "version": "3.11.9"
  }
 },
 "nbformat": 4,
 "nbformat_minor": 2
}
